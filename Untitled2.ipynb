{
  "nbformat": 4,
  "nbformat_minor": 0,
  "metadata": {
    "colab": {
      "provenance": [],
      "toc_visible": true,
      "authorship_tag": "ABX9TyPbXGgqgg4TEmuIOttIS09V",
      "include_colab_link": true
    },
    "kernelspec": {
      "name": "python3",
      "display_name": "Python 3"
    },
    "language_info": {
      "name": "python"
    }
  },
  "cells": [
    {
      "cell_type": "markdown",
      "metadata": {
        "id": "view-in-github",
        "colab_type": "text"
      },
      "source": [
        "<a href=\"https://colab.research.google.com/github/PraneethSunkoju/hu22csen0101630exp1/blob/main/Untitled2.ipynb\" target=\"_parent\"><img src=\"https://colab.research.google.com/assets/colab-badge.svg\" alt=\"Open In Colab\"/></a>"
      ]
    },
    {
      "cell_type": "code",
      "execution_count": 1,
      "metadata": {
        "id": "iZHlXFvbiD3T"
      },
      "outputs": [],
      "source": [
        "def temparature_modelling(a,b,c,time):\n",
        "  temparature=a*time**2+b*time+c\n",
        "  return temparature"
      ]
    },
    {
      "cell_type": "code",
      "source": [
        "#hardcoded variables\n",
        "a,b,c=0.5,1,10\n",
        "time=5"
      ],
      "metadata": {
        "id": "rY-MCzrpicBR"
      },
      "execution_count": 4,
      "outputs": []
    },
    {
      "cell_type": "code",
      "source": [
        "print(\"hardcoded variables are\",temparature_modelling(a,b,c,time))"
      ],
      "metadata": {
        "colab": {
          "base_uri": "https://localhost:8080/"
        },
        "id": "1ot94VWhifvl",
        "outputId": "40ade0d5-c076-4ae2-8bd9-722fc757756d"
      },
      "execution_count": 5,
      "outputs": [
        {
          "output_type": "stream",
          "name": "stdout",
          "text": [
            "hardcoded variables are 27.5\n"
          ]
        }
      ]
    },
    {
      "cell_type": "code",
      "source": [
        "a=float(input('enter a coefficient'))\n",
        "b=float(input('enter b coefficient'))\n",
        "c=float(input('enter c coefficient'))"
      ],
      "metadata": {
        "colab": {
          "base_uri": "https://localhost:8080/"
        },
        "id": "hDMS0B6gimDl",
        "outputId": "0082b161-e31a-4ea5-d69b-31bdfc30edaf"
      },
      "execution_count": 6,
      "outputs": [
        {
          "name": "stdout",
          "output_type": "stream",
          "text": [
            "enter a coefficient0.4\n",
            "enter b coefficient1\n",
            "enter c coefficient0.9\n"
          ]
        }
      ]
    },
    {
      "cell_type": "code",
      "source": [
        "time=float(input(\"enter any time\"))\n"
      ],
      "metadata": {
        "colab": {
          "base_uri": "https://localhost:8080/"
        },
        "id": "xzeIm1eHiqeU",
        "outputId": "53c70114-ae29-4d86-c1aa-23cbb57f7578"
      },
      "execution_count": 7,
      "outputs": [
        {
          "name": "stdout",
          "output_type": "stream",
          "text": [
            "enter any time10\n"
          ]
        }
      ]
    },
    {
      "cell_type": "code",
      "source": [
        "print(\"hardcoded variables are\",temparature_modelling(a,b,c,time))"
      ],
      "metadata": {
        "colab": {
          "base_uri": "https://localhost:8080/"
        },
        "id": "tBmS7wJfiwoX",
        "outputId": "4e29dbcc-e54d-4256-f341-93e1525a6487"
      },
      "execution_count": 8,
      "outputs": [
        {
          "output_type": "stream",
          "name": "stdout",
          "text": [
            "hardcoded variables are 50.9\n"
          ]
        }
      ]
    },
    {
      "cell_type": "code",
      "source": [
        "\n",
        "def read_from_file(input):\n",
        "\n",
        "  with open('input.txt', 'r') as file:\n",
        "   lines=file.readlines()\n",
        "  coefficients = [tuple (map (float, line.strip().split(','))) for line in lines]\n",
        "  return coefficients\n"
      ],
      "metadata": {
        "id": "sOf41S7_iy4p"
      },
      "execution_count": 12,
      "outputs": []
    },
    {
      "cell_type": "code",
      "source": [
        "coefficients=read_from_file('/content/input.txt')\n",
        "a,b,c,time=coefficients[0]\n",
        "\n",
        "print(\"Temperature form keyboard coefficients at time\", time, \"hours:\", temparature_modelling(a,b,c,time))"
      ],
      "metadata": {
        "colab": {
          "base_uri": "https://localhost:8080/"
        },
        "id": "9wF6J_14i1ut",
        "outputId": "01223f01-4bf0-4ecb-fa6c-cb9a62285113"
      },
      "execution_count": 13,
      "outputs": [
        {
          "output_type": "stream",
          "name": "stdout",
          "text": [
            "Temperature form keyboard coefficients at time 6.0 hours: 68.0\n"
          ]
        }
      ]
    },
    {
      "cell_type": "code",
      "source": [
        "for idx, (a, b, c,time) in enumerate (coefficients):\n",
        "\n",
        "  print(\"Temperature form keyboard coefficients at time\", time, \"hours:\",temparature_modelling(a,b,c,time))"
      ],
      "metadata": {
        "colab": {
          "base_uri": "https://localhost:8080/"
        },
        "id": "MeTc2AuXjU3g",
        "outputId": "5d062cdd-3f3b-412e-c437-5f73a5ef92ab"
      },
      "execution_count": 14,
      "outputs": [
        {
          "output_type": "stream",
          "name": "stdout",
          "text": [
            "Temperature form keyboard coefficients at time 6.0 hours: 68.0\n",
            "Temperature form keyboard coefficients at time 8.0 hours: 375.0\n",
            "Temperature form keyboard coefficients at time 14.0 hours: 1915.0\n"
          ]
        }
      ]
    }
  ]
}